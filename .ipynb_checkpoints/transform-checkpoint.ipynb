{
 "cells": [
  {
   "metadata": {
    "ExecuteTime": {
     "end_time": "2025-09-17T17:11:05.429169Z",
     "start_time": "2025-09-17T17:11:05.422990Z"
    }
   },
   "cell_type": "code",
   "source": "print(f\"Hellow world {4+999}\")",
   "id": "29710ebce0d8b85",
   "outputs": [
    {
     "name": "stdout",
     "output_type": "stream",
     "text": [
      "Hellow world 1003\n"
     ]
    }
   ],
   "execution_count": 10
  },
  {
   "metadata": {
    "ExecuteTime": {
     "end_time": "2025-09-17T17:11:05.577366Z",
     "start_time": "2025-09-17T17:11:05.439540Z"
    }
   },
   "cell_type": "code",
   "source": [
    "import requests\n",
    "import json\n",
    "response = requests.get(\"http://api.weatherapi.com/v1/current.json?key=250333daae4a4bff9fb72942252807&aqi=no&q=Rajshahi,BD\", timeout=10)\n",
    "\n",
    "print(json.dumps(response.json(), indent=4))"
   ],
   "id": "e2bf10c4a2d6ea7",
   "outputs": [
    {
     "name": "stdout",
     "output_type": "stream",
     "text": [
      "{\n",
      "    \"location\": {\n",
      "        \"name\": \"Rajshahi\",\n",
      "        \"region\": \"\",\n",
      "        \"country\": \"Bangladesh\",\n",
      "        \"lat\": 24.3667,\n",
      "        \"lon\": 88.6,\n",
      "        \"tz_id\": \"Asia/Dhaka\",\n",
      "        \"localtime_epoch\": 1758129373,\n",
      "        \"localtime\": \"2025-09-17 23:16\"\n",
      "    },\n",
      "    \"current\": {\n",
      "        \"last_updated_epoch\": 1758129300,\n",
      "        \"last_updated\": \"2025-09-17 23:15\",\n",
      "        \"temp_c\": 26.3,\n",
      "        \"temp_f\": 79.3,\n",
      "        \"is_day\": 0,\n",
      "        \"condition\": {\n",
      "            \"text\": \"Light rain shower\",\n",
      "            \"icon\": \"//cdn.weatherapi.com/weather/64x64/night/353.png\",\n",
      "            \"code\": 1240\n",
      "        },\n",
      "        \"wind_mph\": 6.5,\n",
      "        \"wind_kph\": 10.4,\n",
      "        \"wind_degree\": 181,\n",
      "        \"wind_dir\": \"S\",\n",
      "        \"pressure_mb\": 1007.0,\n",
      "        \"pressure_in\": 29.74,\n",
      "        \"precip_mm\": 0.25,\n",
      "        \"precip_in\": 0.01,\n",
      "        \"humidity\": 90,\n",
      "        \"cloud\": 55,\n",
      "        \"feelslike_c\": 30.1,\n",
      "        \"feelslike_f\": 86.1,\n",
      "        \"windchill_c\": 26.3,\n",
      "        \"windchill_f\": 79.3,\n",
      "        \"heatindex_c\": 30.1,\n",
      "        \"heatindex_f\": 86.1,\n",
      "        \"dewpoint_c\": 24.5,\n",
      "        \"dewpoint_f\": 76.1,\n",
      "        \"vis_km\": 10.0,\n",
      "        \"vis_miles\": 6.0,\n",
      "        \"uv\": 0.0,\n",
      "        \"gust_mph\": 12.1,\n",
      "        \"gust_kph\": 19.4\n",
      "    }\n",
      "}\n"
     ]
    }
   ],
   "execution_count": 11
  },
  {
   "metadata": {
    "ExecuteTime": {
     "end_time": "2025-09-17T17:11:05.599841Z",
     "start_time": "2025-09-17T17:11:05.598126Z"
    }
   },
   "cell_type": "code",
   "source": "",
   "id": "4013d7b425241878",
   "outputs": [],
   "execution_count": null
  }
 ],
 "metadata": {
  "kernelspec": {
   "name": "python3",
   "language": "python",
   "display_name": "Python 3 (ipykernel)"
  }
 },
 "nbformat": 4,
 "nbformat_minor": 5
}
