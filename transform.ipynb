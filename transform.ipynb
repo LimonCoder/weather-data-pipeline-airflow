{
 "cells": [
  {
   "cell_type": "code",
   "execution_count": 10,
   "id": "29710ebce0d8b85",
   "metadata": {
    "ExecuteTime": {
     "end_time": "2025-09-17T17:11:05.429169Z",
     "start_time": "2025-09-17T17:11:05.422990Z"
    }
   },
   "outputs": [
    {
     "name": "stdout",
     "output_type": "stream",
     "text": [
      "Hellow world 1003\n"
     ]
    }
   ],
   "source": [
    "print(f\"Hellow world {4+999}\")"
   ]
  },
  {
   "cell_type": "code",
   "execution_count": 12,
   "id": "01c88526-05cf-4341-a758-055669f32d56",
   "metadata": {
    "ExecuteTime": {
     "end_time": "2025-09-17T17:11:05.577366Z",
     "start_time": "2025-09-17T17:11:05.439540Z"
    },
    "tags": [
     "test"
    ]
   },
   "outputs": [
    {
     "name": "stdout",
     "output_type": "stream",
     "text": [
      "{\n",
      "    \"location\": {\n",
      "        \"name\": \"Rajshahi\",\n",
      "        \"region\": \"\",\n",
      "        \"country\": \"Bangladesh\",\n",
      "        \"lat\": 24.3667,\n",
      "        \"lon\": 88.6,\n",
      "        \"tz_id\": \"Asia/Dhaka\",\n",
      "        \"localtime_epoch\": 1758129373,\n",
      "        \"localtime\": \"2025-09-17 23:16\"\n",
      "    },\n",
      "    \"current\": {\n",
      "        \"last_updated_epoch\": 1758129300,\n",
      "        \"last_updated\": \"2025-09-17 23:15\",\n",
      "        \"temp_c\": 26.3,\n",
      "        \"temp_f\": 79.3,\n",
      "        \"is_day\": 0,\n",
      "        \"condition\": {\n",
      "            \"text\": \"Light rain shower\",\n",
      "            \"icon\": \"//cdn.weatherapi.com/weather/64x64/night/353.png\",\n",
      "            \"code\": 1240\n",
      "        },\n",
      "        \"wind_mph\": 6.5,\n",
      "        \"wind_kph\": 10.4,\n",
      "        \"wind_degree\": 181,\n",
      "        \"wind_dir\": \"S\",\n",
      "        \"pressure_mb\": 1007.0,\n",
      "        \"pressure_in\": 29.74,\n",
      "        \"precip_mm\": 0.25,\n",
      "        \"precip_in\": 0.01,\n",
      "        \"humidity\": 90,\n",
      "        \"cloud\": 55,\n",
      "        \"feelslike_c\": 30.1,\n",
      "        \"feelslike_f\": 86.1,\n",
      "        \"windchill_c\": 26.3,\n",
      "        \"windchill_f\": 79.3,\n",
      "        \"heatindex_c\": 30.1,\n",
      "        \"heatindex_f\": 86.1,\n",
      "        \"dewpoint_c\": 24.5,\n",
      "        \"dewpoint_f\": 76.1,\n",
      "        \"vis_km\": 10.0,\n",
      "        \"vis_miles\": 6.0,\n",
      "        \"uv\": 0.0,\n",
      "        \"gust_mph\": 12.1,\n",
      "        \"gust_kph\": 19.4\n",
      "    }\n",
      "}\n"
     ]
    }
   ],
   "source": [
    "\n",
    "\n",
    "import requests\n",
    "import json\n",
    "response = requests.get(\"http://api.weatherapi.com/v1/current.json?key=250333daae4a4bff9fb72942252807&aqi=no&q=Rajshahi,BD\", timeout=10)\n",
    "\n",
    "print(json.dumps(response.json(), indent=4))"
   ]
  },
  {
   "cell_type": "code",
   "execution_count": null,
   "id": "4013d7b425241878",
   "metadata": {
    "ExecuteTime": {
     "end_time": "2025-09-17T17:11:05.599841Z",
     "start_time": "2025-09-17T17:11:05.598126Z"
    }
   },
   "outputs": [],
   "source": []
  },
  {
   "cell_type": "code",
   "execution_count": null,
   "id": "5190cce6-add6-4c5d-85ec-7b09bc0de8b2",
   "metadata": {},
   "outputs": [],
   "source": []
  },
  {
   "cell_type": "code",
   "execution_count": 13,
   "id": "ee0039df-37cc-48c9-b613-cf8ee3090540",
   "metadata": {},
   "outputs": [
    {
     "name": "stdout",
     "output_type": "stream",
     "text": [
      "test\n"
     ]
    }
   ],
   "source": [
    "print('test')"
   ]
  },
  {
   "cell_type": "code",
   "execution_count": null,
   "id": "5ce95a0d-c452-4a6c-a2bf-b0e99500a807",
   "metadata": {},
   "outputs": [],
   "source": []
  }
 ],
 "metadata": {
  "kernelspec": {
   "display_name": "Python 3 (ipykernel)",
   "language": "python",
   "name": "python3"
  },
  "language_info": {
   "codemirror_mode": {
    "name": "ipython",
    "version": 3
   },
   "file_extension": ".py",
   "mimetype": "text/x-python",
   "name": "python",
   "nbconvert_exporter": "python",
   "pygments_lexer": "ipython3",
   "version": "3.9.6"
  }
 },
 "nbformat": 4,
 "nbformat_minor": 5
}
